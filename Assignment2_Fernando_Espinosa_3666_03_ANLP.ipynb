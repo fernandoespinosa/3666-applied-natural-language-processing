{
  "nbformat": 4,
  "nbformat_minor": 0,
  "metadata": {
    "colab": {
      "provenance": [],
      "toc_visible": true,
      "authorship_tag": "ABX9TyNnqJUP9rQ7fj6UCiBS73B1",
      "include_colab_link": true
    },
    "kernelspec": {
      "name": "python3",
      "display_name": "Python 3"
    },
    "language_info": {
      "name": "python"
    }
  },
  "cells": [
    {
      "cell_type": "markdown",
      "metadata": {
        "id": "view-in-github",
        "colab_type": "text"
      },
      "source": [
        "<a href=\"https://colab.research.google.com/github/fernandoespinosa/3666-applied-natural-language-processing/blob/master/Assignment2_Fernando_Espinosa_3666_03_ANLP.ipynb\" target=\"_parent\"><img src=\"https://colab.research.google.com/assets/colab-badge.svg\" alt=\"Open In Colab\"/></a>"
      ]
    },
    {
      "cell_type": "code",
      "execution_count": 1,
      "metadata": {
        "id": "8UFw3-5bivcW"
      },
      "outputs": [],
      "source": [
        "import re"
      ]
    },
    {
      "cell_type": "markdown",
      "source": [
        "# Question 1\n",
        "As per https://docs.python.org/3/library/re.html#search-vs-match:\n",
        "\n",
        "> `search() vs. match()`\n",
        ">\n",
        "> Python offers different primitive operations based on regular expressions:\n",
        ">\n",
        "> `re.match()` checks for a match only at the beginning of the string\n",
        ">\n",
        "> `re.search()` checks for a match anywhere in the string (this is what Perl does by\n",
        "default)\n",
        ">\n",
        "> `re.fullmatch()` checks for entire string to be a match\n",
        "\n",
        "## What does the function `re.match` do?:\n",
        "\n",
        "👉🏼 **matches a pattern only at the beginning of the string**"
      ],
      "metadata": {
        "id": "04v7VtBR5TA-"
      }
    },
    {
      "cell_type": "markdown",
      "source": [
        "# Question 2"
      ],
      "metadata": {
        "id": "t0tzGno83mlM"
      }
    },
    {
      "cell_type": "code",
      "source": [
        "sentence = 'The day is beautiful'\n",
        "matched = re.match(r'(.*) (.*?) (.*)', sentence)\n",
        "print(matched.group())\n"
      ],
      "metadata": {
        "colab": {
          "base_uri": "https://localhost:8080/"
        },
        "id": "nCOwc4Mi3mVQ",
        "outputId": "3c5779f9-eba5-4fdb-8624-1e0c805be48e"
      },
      "execution_count": 2,
      "outputs": [
        {
          "output_type": "stream",
          "name": "stdout",
          "text": [
            "The day is beautiful\n"
          ]
        }
      ]
    },
    {
      "cell_type": "markdown",
      "source": [
        "# Question 3\n",
        "\n",
        "The task requirement is a little bit vague, but I'll provide implementation without loss of generatility:\n",
        "\n",
        "1. The first pattern `r'aq{3,4}'` will match any occurence within a given string\n",
        "2. The second pattern `r'\\baq{3,4}\\b'` will match only exact words (as separated by word boundaries)\n",
        "3. The third pattern `r'^aq{3,4}$'` will match only the entire string"
      ],
      "metadata": {
        "id": "wAdaWDZ060OJ"
      }
    },
    {
      "cell_type": "code",
      "source": [
        "test_strings = [\n",
        "    \"let's see if 'a' matches the pattern\",\n",
        "    \"let's see if 'aq' matches the pattern\",\n",
        "    \"let's see if 'aqq' matches the pattern\",\n",
        "    \"let's see if 'aqqq' matches the pattern\",\n",
        "    \"let's see if 'aqqqq' matches the pattern\",\n",
        "    \"let's see if 'aqqqqq' matches the pattern\",\n",
        "    \"aqq\",\n",
        "    \"aqqq\",\n",
        "    \"aqqqq\",\n",
        "    \"aqqqqq\",\n",
        "    \"aqqqqqaqqqqq\",\n",
        "]\n",
        "\n",
        "print('--- OPTION 1: match anywhere')\n",
        "\n",
        "pattern = r'aq{3,4}'\n",
        "\n",
        "for test_string in test_strings:\n",
        "    match = re.search(pattern, test_string)\n",
        "    if match:\n",
        "      print(f'{match} with input: {test_string}')\n",
        "\n",
        "print()\n",
        "print('--- OPTION 2: match word boundaries')\n",
        "\n",
        "pattern_word_boundary = r'\\baq{3,4}\\b'\n",
        "\n",
        "for test_string in test_strings:\n",
        "    match = re.search(pattern_word_boundary, test_string)\n",
        "    if match:\n",
        "      print(f'{match} with input: {test_string}')\n",
        "\n",
        "print()\n",
        "print('--- OPTION 3: match only full input')\n",
        "\n",
        "pattern_start_end = r'^aq{3,4}$'\n",
        "\n",
        "for test_string in test_strings:\n",
        "    match = re.search(pattern_start_end, test_string)\n",
        "    if match:\n",
        "        print(f'{match} with input: {test_string}')\n"
      ],
      "metadata": {
        "colab": {
          "base_uri": "https://localhost:8080/"
        },
        "id": "DRJ4lMKn62Nw",
        "outputId": "988573a4-f776-438c-d602-072d02ec251d"
      },
      "execution_count": 3,
      "outputs": [
        {
          "output_type": "stream",
          "name": "stdout",
          "text": [
            "--- OPTION 1: match anywhere\n",
            "<re.Match object; span=(14, 18), match='aqqq'> with input: let's see if 'aqqq' matches the pattern\n",
            "<re.Match object; span=(14, 19), match='aqqqq'> with input: let's see if 'aqqqq' matches the pattern\n",
            "<re.Match object; span=(14, 19), match='aqqqq'> with input: let's see if 'aqqqqq' matches the pattern\n",
            "<re.Match object; span=(0, 4), match='aqqq'> with input: aqqq\n",
            "<re.Match object; span=(0, 5), match='aqqqq'> with input: aqqqq\n",
            "<re.Match object; span=(0, 5), match='aqqqq'> with input: aqqqqq\n",
            "<re.Match object; span=(0, 5), match='aqqqq'> with input: aqqqqqaqqqqq\n",
            "\n",
            "--- OPTION 2: match word boundaries\n",
            "<re.Match object; span=(14, 18), match='aqqq'> with input: let's see if 'aqqq' matches the pattern\n",
            "<re.Match object; span=(14, 19), match='aqqqq'> with input: let's see if 'aqqqq' matches the pattern\n",
            "<re.Match object; span=(0, 4), match='aqqq'> with input: aqqq\n",
            "<re.Match object; span=(0, 5), match='aqqqq'> with input: aqqqq\n",
            "\n",
            "--- OPTION 3: match only full input\n",
            "<re.Match object; span=(0, 4), match='aqqq'> with input: aqqq\n",
            "<re.Match object; span=(0, 5), match='aqqqq'> with input: aqqqq\n"
          ]
        }
      ]
    },
    {
      "cell_type": "markdown",
      "source": [
        "# Question 4"
      ],
      "metadata": {
        "id": "CKzdIhzR7mau"
      }
    },
    {
      "cell_type": "code",
      "source": [
        "import requests\n",
        "from bs4 import BeautifulSoup\n",
        "import nltk"
      ],
      "metadata": {
        "id": "WMjUfbhgBOCe"
      },
      "execution_count": 4,
      "outputs": []
    },
    {
      "cell_type": "code",
      "source": [
        "nltk.download('punkt')\n",
        "nltk.download('stopwords')\n",
        "nltk.download('averaged_perceptron_tagger')"
      ],
      "metadata": {
        "colab": {
          "base_uri": "https://localhost:8080/"
        },
        "id": "DPp0IFwqwkuN",
        "outputId": "6a39df36-28fa-424e-92e2-0e68b50e3eec"
      },
      "execution_count": 5,
      "outputs": [
        {
          "output_type": "stream",
          "name": "stderr",
          "text": [
            "[nltk_data] Downloading package punkt to /root/nltk_data...\n",
            "[nltk_data]   Package punkt is already up-to-date!\n",
            "[nltk_data] Downloading package stopwords to /root/nltk_data...\n",
            "[nltk_data]   Package stopwords is already up-to-date!\n",
            "[nltk_data] Downloading package averaged_perceptron_tagger to\n",
            "[nltk_data]     /root/nltk_data...\n",
            "[nltk_data]   Package averaged_perceptron_tagger is already up-to-\n",
            "[nltk_data]       date!\n"
          ]
        },
        {
          "output_type": "execute_result",
          "data": {
            "text/plain": [
              "True"
            ]
          },
          "metadata": {},
          "execution_count": 5
        }
      ]
    },
    {
      "cell_type": "code",
      "source": [
        "\n",
        "url = 'https://www.bbc.com/news/science-environment-54562501'\n",
        "http_response = requests.get(url)\n",
        "html_content = http_response.text\n",
        "\n",
        "# parse raw HTML content into a beautiful soup\n",
        "beautiful_soup = BeautifulSoup(html_content, 'lxml')\n"
      ],
      "metadata": {
        "id": "wO876k-TkVGS"
      },
      "execution_count": 6,
      "outputs": []
    },
    {
      "cell_type": "code",
      "source": [
        "\n",
        "def print_array_info(name, array, length=5):\n",
        "  print()\n",
        "  print(f'---#count({name}): {len(array)}')\n",
        "  print(*array[:length], sep='\\n')\n",
        "  print()\n"
      ],
      "metadata": {
        "id": "t059mJ1_7OBw"
      },
      "execution_count": 7,
      "outputs": []
    },
    {
      "cell_type": "code",
      "source": [
        "html_lines = beautiful_soup.prettify().splitlines()\n",
        "print_array_info('html_lines', html_lines, 10)"
      ],
      "metadata": {
        "colab": {
          "base_uri": "https://localhost:8080/"
        },
        "collapsed": true,
        "id": "y9BgehS0mqp4",
        "outputId": "548e46b8-b174-44e9-8195-9bfb8da8ad65"
      },
      "execution_count": 8,
      "outputs": [
        {
          "output_type": "stream",
          "name": "stdout",
          "text": [
            "\n",
            "---#count(html_lines): 1915\n",
            "<!DOCTYPE html>\n",
            "<html lang=\"en-GB\">\n",
            " <head>\n",
            "  <meta charset=\"utf-8\"/>\n",
            "  <meta content=\"width=device-width\" name=\"viewport\"/>\n",
            "  <title>\n",
            "   Pieces of orbiting space junk 'avoid collision'\n",
            "  </title>\n",
            "  <meta content=\"Pieces of orbiting space junk 'avoid collision'\" property=\"og:title\"/>\n",
            "  <meta content=\"Pieces of orbiting space junk 'avoid collision'\" name=\"twitter:title\"/>\n",
            "\n"
          ]
        }
      ]
    },
    {
      "cell_type": "code",
      "source": [
        "\n",
        "sentences = []\n",
        "sentences_with_parts_of_speech = []\n",
        "\n",
        "for p in beautiful_soup.find_all('p'):\n",
        "  for sent_tokenize in nltk.sent_tokenize(p.text):\n",
        "    word_tokenize = nltk.word_tokenize(sent_tokenize)\n",
        "    sentences.append(word_tokenize)\n",
        "    pos_tags = nltk.pos_tag(word_tokenize)\n",
        "    sentences_with_parts_of_speech.append(pos_tags)\n"
      ],
      "metadata": {
        "id": "cpcsiwZ_0zeO"
      },
      "execution_count": 9,
      "outputs": []
    },
    {
      "cell_type": "markdown",
      "source": [
        "## (1) Print the number of meaningful words or tokens your program processed"
      ],
      "metadata": {
        "id": "kDDHq_SwIS4Z"
      }
    },
    {
      "cell_type": "code",
      "source": [
        "tokens = [\n",
        "    w\n",
        "    for s in sentences\n",
        "    for w in s\n",
        "]\n",
        "\n",
        "print(f'# of meaningful words/tokens: {len(tokens)}')"
      ],
      "metadata": {
        "colab": {
          "base_uri": "https://localhost:8080/"
        },
        "id": "WwGQgZK_IVlK",
        "outputId": "63bb1ee2-12c7-4aa1-9561-19857b3fd8f8"
      },
      "execution_count": 19,
      "outputs": [
        {
          "output_type": "stream",
          "name": "stdout",
          "text": [
            "# of meaningful words/tokens: 416\n"
          ]
        }
      ]
    },
    {
      "cell_type": "markdown",
      "source": [
        "## (2) Print the number of sentences your program processed"
      ],
      "metadata": {
        "id": "uUWjEm5bEayd"
      }
    },
    {
      "cell_type": "code",
      "source": [
        "print(f'# of sentences: {len(sentences)} (= {len(sentences_with_parts_of_speech)})')"
      ],
      "metadata": {
        "colab": {
          "base_uri": "https://localhost:8080/"
        },
        "id": "W3-ca95FEJQh",
        "outputId": "4bdaffa4-a721-4009-ffa0-6163efe6bf7a"
      },
      "execution_count": 20,
      "outputs": [
        {
          "output_type": "stream",
          "name": "stdout",
          "text": [
            "# of sentences: 20 (= 20)\n"
          ]
        }
      ]
    },
    {
      "cell_type": "markdown",
      "source": [
        "## (3) Print the number of Stop words your program encountered"
      ],
      "metadata": {
        "id": "0pb1523gEqSv"
      }
    },
    {
      "cell_type": "code",
      "source": [
        "stopwords = nltk.corpus.stopwords.words('english')\n",
        "\n",
        "# convert to set for set operations\n",
        "stopwords_set = set(stopwords)\n",
        "tokens_set = set(tokens)\n",
        "stopwords_encountered = stopwords_set.intersection(tokens_set)\n",
        "\n",
        "print(f'# of DISTINCT stop words encountered: {len(stopwords_encountered)}')\n",
        "print()\n",
        "\n",
        "# furthermore, this will compute the total # of appearacnes of stopwords with multiplicity\n",
        "total_with_multiplicity = 0\n",
        "for i, s in enumerate(sentences):\n",
        "  sw = [w for w in s if w in stopwords]\n",
        "  count = len(sw)\n",
        "  total_with_multiplicity += count\n",
        "  print(f'{count} stopwords (with multiplicity) found in sentence #{i}: {sw}')\n",
        "print()\n",
        "\n",
        "print(f'# of stop words appearances (with multiplicity): {total_with_multiplicity}')\n",
        "print()\n"
      ],
      "metadata": {
        "colab": {
          "base_uri": "https://localhost:8080/"
        },
        "id": "6hBIxtKwEnoP",
        "outputId": "825f4d4f-4a47-4981-ae78-a5682c62ea05"
      },
      "execution_count": 30,
      "outputs": [
        {
          "output_type": "stream",
          "name": "stdout",
          "text": [
            "# of DISTINCT stop words encountered: 46\n",
            "\n",
            "8 stopwords (with multiplicity) found in sentence #0: ['of', 'to', 'to', 'have', 'a', 'which', 'to', 'in']\n",
            "9 stopwords (with multiplicity) found in sentence #1: ['had', 'a', 'and', 'a', 'were', 'to', 'of', 'each', 'other']\n",
            "6 stopwords (with multiplicity) found in sentence #2: ['there', 'were', 'no', 'of', 'over', 'on']\n",
            "4 stopwords (with multiplicity) found in sentence #3: ['and', 'the', 'with', 'a']\n",
            "14 stopwords (with multiplicity) found in sentence #4: ['the', 'having', 'a', 'of', 'more', 'than', 'and', 'of', 'any', 'have', 'been', 'and', 'a', 'of']\n",
            "8 stopwords (with multiplicity) found in sentence #5: ['the', 'of', 'the', 'have', 'for', 'an', 'a', 'to']\n",
            "3 stopwords (with multiplicity) found in sentence #6: ['a', 'its', 'own']\n",
            "10 stopwords (with multiplicity) found in sentence #7: ['an', 'at', 'the', 'of', 'at', 'out', 'the', 'to', 'be', 'about']\n",
            "4 stopwords (with multiplicity) found in sentence #8: ['the', 'a', 'to', 'a']\n",
            "9 stopwords (with multiplicity) found in sentence #9: ['more', 'and', 'more', 'being', 'there', 'is', 'about', 'the', 'for']\n",
            "19 stopwords (with multiplicity) found in sentence #10: ['is', 'the', 'of', 'in', 'some', 'than', 'by', 'some', 'and', 'all', 'of', 'it', 'of', 'doing', 'to', 'or', 'an', 'in', 'a']\n",
            "7 stopwords (with multiplicity) found in sentence #11: ['the', 'its', 'of', 'the', 'which', 'the', 'of']\n",
            "5 stopwords (with multiplicity) found in sentence #12: ['in', 'by', 'in', 'and', 'and']\n",
            "8 stopwords (with multiplicity) found in sentence #13: ['over', 'the', 'have', 'in', 'and', 'this', 'is', 'the']\n",
            "11 stopwords (with multiplicity) found in sentence #14: ['this', 'at', 'the', 'a', 'of', 'what', 'they', 'as', 'the', 'most', 'in']\n",
            "4 stopwords (with multiplicity) found in sentence #15: ['of', 'them', 'were', 'or']\n",
            "0 stopwords (with multiplicity) found in sentence #16: []\n",
            "0 stopwords (with multiplicity) found in sentence #17: []\n",
            "5 stopwords (with multiplicity) found in sentence #18: ['is', 'not', 'for', 'the', 'of']\n",
            "3 stopwords (with multiplicity) found in sentence #19: ['about', 'our', 'to']\n",
            "\n",
            "# of stop words appearances (with multiplicity): 137\n",
            "\n"
          ]
        }
      ]
    },
    {
      "cell_type": "markdown",
      "source": [
        "## (4) Print the first 5 sentences with parts of speech tagged for every words in it."
      ],
      "metadata": {
        "id": "XJEo51lJEvjX"
      }
    },
    {
      "cell_type": "code",
      "source": [
        "print_array_info('sentences_with_parts_of_speech', sentences_with_parts_of_speech, 5)"
      ],
      "metadata": {
        "colab": {
          "base_uri": "https://localhost:8080/"
        },
        "id": "RYOa12tfsxon",
        "outputId": "ff00b491-fb60-4501-983f-adf1c6887540"
      },
      "execution_count": 13,
      "outputs": [
        {
          "output_type": "stream",
          "name": "stdout",
          "text": [
            "\n",
            "---#count(sentences_with_parts_of_speech): 20\n",
            "[('Two', 'CD'), ('items', 'NNS'), ('of', 'IN'), ('space', 'NN'), ('junk', 'NN'), ('expected', 'VBN'), ('to', 'TO'), ('pass', 'VB'), ('close', 'RB'), ('to', 'TO'), ('one', 'CD'), ('another', 'DT'), ('have', 'VBP'), ('avoided', 'VBN'), ('collision', 'NN'), (',', ','), ('said', 'VBD'), ('a', 'DT'), ('company', 'NN'), ('which', 'WDT'), ('uses', 'VBZ'), ('radar', 'NN'), ('to', 'TO'), ('track', 'VB'), ('objects', 'NNS'), ('in', 'IN'), ('orbit', 'NN'), ('.', '.')]\n",
            "[('LeoLabs', 'NNP'), ('had', 'VBD'), ('said', 'VBD'), ('a', 'DT'), ('defunct', 'JJ'), ('Russian', 'NNP'), ('satellite', 'NN'), ('and', 'CC'), ('a', 'DT'), ('discarded', 'JJ'), ('Chinese', 'JJ'), ('rocket', 'NN'), ('segment', 'NN'), ('were', 'VBD'), ('likely', 'JJ'), ('to', 'TO'), ('come', 'VB'), ('within', 'IN'), ('25m', 'CD'), ('of', 'IN'), ('each', 'DT'), ('other', 'JJ'), ('.', '.')]\n",
            "[('It', 'PRP'), ('said', 'VBD'), ('there', 'EX'), ('were', 'VBD'), ('no', 'DT'), ('signs', 'NNS'), ('of', 'IN'), ('debris', 'NN'), ('over', 'IN'), ('Antarctica', 'NNP'), ('on', 'IN'), ('Friday', 'NNP'), ('morning', 'NN'), ('.', '.')]\n",
            "[('Other', 'JJ'), ('experts', 'NNS'), ('thought', 'VBN'), ('Kosmos-2004', 'NNP'), ('and', 'CC'), ('the', 'DT'), ('ChangZheng', 'NNP'), ('rocket', 'NN'), ('stage', 'NN'), ('would', 'MD'), ('pass', 'VB'), ('with', 'IN'), ('a', 'DT'), ('far', 'RB'), ('greater', 'JJR'), ('separation', 'NN'), ('.', '.')]\n",
            "[('With', 'IN'), ('the', 'DT'), ('objects', 'NNS'), ('having', 'VBG'), ('a', 'DT'), ('combined', 'JJ'), ('mass', 'NN'), ('of', 'IN'), ('more', 'JJR'), ('than', 'IN'), ('2.5', 'CD'), ('tonnes', 'NNS'), ('and', 'CC'), ('relative', 'JJ'), ('velocity', 'NN'), ('of', 'IN'), ('14.66km/s', 'CD'), ('(', '('), ('32,800mph', 'CD'), (')', ')'), (',', ','), ('any', 'DT'), ('collision', 'NN'), ('would', 'MD'), ('have', 'VB'), ('been', 'VBN'), ('catastrophic', 'JJ'), ('and', 'CC'), ('produced', 'VBD'), ('a', 'DT'), ('shower', 'NN'), ('of', 'IN'), ('debris', 'NN'), ('.', '.')]\n",
            "\n"
          ]
        }
      ]
    }
  ]
}